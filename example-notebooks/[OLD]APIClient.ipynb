{
 "cells": [
  {
   "cell_type": "markdown",
   "metadata": {},
   "source": [
    "# API\n",
    "- Note: https://github.com/CityScope/CS_CityIO/wiki/API\n",
    "- https://github.com/CityScope/cityscope.github.io/wiki/CityIO-Data-Structure-Standard-version-2.1\n",
    "- https://github.com/CityScope/CS_cityscopeJS\n",
    "\n",
    "---\n",
    "- ListTables   = URI(ReqType.GET,  f\"{self.endpoint}/tables/list\")\n",
    "- GetTable     = URI(ReqType.GET,  f\"{self.endpoint}/table/:tableName\")\n",
    "- PostTable    = URI(ReqType.POST, f\"{self.endpoint}/table/update/:tableName/:fieldName\")\n",
    "- DeleteTable  = URI(ReqType.GET,  f\"{self.endpoint}/table/clear/:tableName/:fieldName\")\n",
    "- DeleteModule = URI(ReqType.GET,  f\"{self.endpoint}/table/clear/:tableName/:moduleName\")"
   ]
  },
  {
   "cell_type": "code",
   "execution_count": 1,
   "metadata": {},
   "outputs": [],
   "source": [
    "from Lib.APIClient import (\n",
    "    APIClient,\n",
    "    Message\n",
    ")\n",
    "import json"
   ]
  },
  {
   "cell_type": "code",
   "execution_count": 2,
   "metadata": {},
   "outputs": [],
   "source": [
    "API = APIClient()"
   ]
  },
  {
   "cell_type": "code",
   "execution_count": 3,
   "metadata": {},
   "outputs": [],
   "source": [
    "msg_ropp = Message(\n",
    "    name={\"tableName\": \"umekita\"},\n",
    "    content={}\n",
    ")\n",
    "res = API.GetTable(message = msg_ropp)"
   ]
  },
  {
   "cell_type": "code",
   "execution_count": 4,
   "metadata": {},
   "outputs": [
    {
     "data": {
      "text/plain": [
       "dict_keys(['GEOGRID', 'GEOGRIDDATA', 'meta'])"
      ]
     },
     "execution_count": 4,
     "metadata": {},
     "output_type": "execute_result"
    }
   ],
   "source": [
    "temp = res.json()\n",
    "temp.keys()"
   ]
  },
  {
   "cell_type": "code",
   "execution_count": 5,
   "metadata": {},
   "outputs": [],
   "source": [
    "with open('./results/umekitaRailway.json', 'w') as f:\n",
    "  json.dump(temp, f)"
   ]
  },
  {
   "cell_type": "code",
   "execution_count": 9,
   "metadata": {},
   "outputs": [],
   "source": [
    "GEOGRID = temp['GEOGRID']"
   ]
  },
  {
   "cell_type": "code",
   "execution_count": 10,
   "metadata": {},
   "outputs": [],
   "source": [
    "GEOGRID['properties']['types'] = ret"
   ]
  },
  {
   "cell_type": "code",
   "execution_count": 11,
   "metadata": {},
   "outputs": [
    {
     "data": {
      "text/plain": [
       "<Response [200]>"
      ]
     },
     "execution_count": 11,
     "metadata": {},
     "output_type": "execute_result"
    }
   ],
   "source": [
    "msg = Message(\n",
    "    {\n",
    "        \"tableName\": 'umekita',\n",
    "        \"fieldName\": \"GEOGRID\"\n",
    "    },\n",
    "    GEOGRID\n",
    ")\n",
    "\n",
    "API.PostTable(message = msg)"
   ]
  },
  {
   "cell_type": "code",
   "execution_count": 5,
   "metadata": {},
   "outputs": [],
   "source": [
    "types = {\n",
    "  \"Office\": [2100, 2300, 2400],\n",
    "  \"Gym\": [3800],\n",
    "  \"LiveHouse\": [3110],\n",
    "  \"NursingHome\": [4100],\n",
    "  \"Residential\": [1100, 1200],\n",
    "  \"Warehouse\": [2700],\n",
    "  \"Park\": [9000],\n",
    "  \"Museum\": [4400],\n",
    "  \"Retail\": [2200],\n",
    "  \"CommertialFacility\": [2500],\n",
    "  \"Library\": [4300],\n",
    "  \"Campus\": [4220],\n",
    "  \"School\": [4210],\n",
    "  \"ConstructionArea\": [9000],\n",
    "  \"Factory\": [2600],\n",
    "  \"ElementarySchool\": [4210],\n",
    "  \"Garden\": [9000],\n",
    "  \"PlantFactory\": [2600],\n",
    "  \"Hospital\": [4110],\n",
    "  \"Laboratory\": [2615],\n",
    "  \"Vacant\": [9000],\n",
    "  \"Arena\": [3300],\n",
    "  \"Road\": [5100],\n",
    "  \"RailLine\": [5100],\n",
    "  \"NaturalForest\": [9000],\n",
    "  \"DisasterArea\": [6900],\n",
    "  \"MarketShop\": [2260],\n",
    "  \"Restaurant\": [2220],\n",
    "  \"Station\": [3940]\n",
    "}"
   ]
  },
  {
   "cell_type": "code",
   "execution_count": 6,
   "metadata": {},
   "outputs": [],
   "source": [
    "import numpy as np"
   ]
  },
  {
   "cell_type": "code",
   "execution_count": 7,
   "metadata": {},
   "outputs": [],
   "source": [
    "ret = {}\n",
    "for i, (name, NAICS) in enumerate(types.items()):\n",
    "  ret[name] = (\n",
    "    {\n",
    "      'LBCS': None,\n",
    "     'NAICS': [{'proportion': 1, 'use': {f\"{n}\": 1/len(NAICS) for n in NAICS}}],\n",
    "     'color': np.random.randint(1, 250, 3).tolist(),\n",
    "     'height': 10,\n",
    "     'interactive': 'Web',\n",
    "     'name': name,\n",
    "   }\n",
    "  )"
   ]
  }
 ],
 "metadata": {
  "kernelspec": {
   "display_name": "Python 3",
   "language": "python",
   "name": "python3"
  },
  "language_info": {
   "codemirror_mode": {
    "name": "ipython",
    "version": 3
   },
   "file_extension": ".py",
   "mimetype": "text/x-python",
   "name": "python",
   "nbconvert_exporter": "python",
   "pygments_lexer": "ipython3",
   "version": "3.8.0"
  }
 },
 "nbformat": 4,
 "nbformat_minor": 4
}
